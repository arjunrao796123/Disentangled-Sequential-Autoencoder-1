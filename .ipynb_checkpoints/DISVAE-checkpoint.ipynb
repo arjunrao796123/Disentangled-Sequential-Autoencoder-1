{
 "cells": [
  {
   "cell_type": "code",
   "execution_count": 5,
   "metadata": {},
   "outputs": [],
   "source": [
    "import torch\n",
    "import torch.utils.data\n",
    "from disVAE import *\n",
    "import matplotlib.pyplot as plt\n"
   ]
  },
  {
   "cell_type": "markdown",
   "metadata": {},
   "source": [
    "# Things to Do\n",
    "1. Run the script in indexed_sprites and generate dataset\n",
    "2. Add the training set and test set size (which is random) to sprites_train and sprites_test. In my system, it was 6858 and 702 respectively\n",
    "3. Create a folder recon and samples before starting the notebook\n",
    "4. Adjust learning rate\n",
    "5. Play with no. of epochs\n",
    "6. Play with conv_dim (currently 1024)\n",
    "7. Change ReLU to Leaky ReLU if there are problems in gradient flow "
   ]
  },
  {
   "cell_type": "code",
   "execution_count": 4,
   "metadata": {},
   "outputs": [],
   "source": [
    "vae = FullQDisentangledVAE(frames=8,f_dim=256,z_dim=32,hidden_dim=512,conv_dim=1024) \n",
    "sprites_train = Sprites('./indexed-sprites/lpc-dataset/train/',6858)\n",
    "sprites_test = Sprites('./indexed-sprites/lpc-dataset/test/',702)\n",
    "trainloader = torch.utils.data.DataLoader(sprites_train,batch_size=64,shuffle=True,num_workers=4) \n",
    "testloader = torch.utils.data.DataLoader(sprites_test,batch_size=1,shuffle=True,num_workers=4)\n",
    "device = torch.device('cuda:0')\n",
    "trainer = Trainer(vae,device,sprites_train,sprites_test,trainloader,testloader,epochs=200,batch_size=64,learning_rate=0.01,checkpoints='disentangled-vae.model',nsamples = 2,sample_path='./samples',\n",
    "            recon_path='./recon') "
   ]
  },
  {
   "cell_type": "code",
   "execution_count": null,
   "metadata": {},
   "outputs": [],
   "source": [
    "trainer.train_model()"
   ]
  },
  {
   "cell_type": "code",
   "execution_count": null,
   "metadata": {},
   "outputs": [],
   "source": [
    "plt.plot(trainer.epoch_losses)"
   ]
  }
 ],
 "metadata": {
  "kernelspec": {
   "display_name": "Python 3",
   "language": "python",
   "name": "python3"
  },
  "language_info": {
   "codemirror_mode": {
    "name": "ipython",
    "version": 3
   },
   "file_extension": ".py",
   "mimetype": "text/x-python",
   "name": "python",
   "nbconvert_exporter": "python",
   "pygments_lexer": "ipython3",
   "version": "3.6.6"
  }
 },
 "nbformat": 4,
 "nbformat_minor": 2
}
