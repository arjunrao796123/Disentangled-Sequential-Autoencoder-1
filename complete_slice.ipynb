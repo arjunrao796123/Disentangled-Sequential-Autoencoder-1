{
 "cells": [
  {
   "cell_type": "code",
   "execution_count": 18,
   "metadata": {},
   "outputs": [],
   "source": [
    "from PIL import Image\n",
    "import numpy as np\n",
    "import matplotlib.pyplot as plt\n",
    "import torch\n",
    "import torchvision\n",
    "import torchvision.transforms as transforms"
   ]
  },
  {
   "cell_type": "code",
   "execution_count": 19,
   "metadata": {},
   "outputs": [],
   "source": [
    "def prepare_tensor(path):\n",
    "    img = np.array(Image.open(path))\n",
    "    actions = {\n",
    "            'walk' : {\n",
    "                'range': [(9,10),(10,11),(11,12)],\n",
    "                'frames': [(0,1),(1,2),(2,3),(3,4),(4,5),(5,6),(6,7),(7,8)]\n",
    "                },\n",
    "            'spellcast': {\n",
    "                'range': [(1,2),(2,3),(3,4)],\n",
    "                'frames': [(0,1),(1,2),(2,3),(3,4),(4,5),(5,6),(6,7),(6,7)]\n",
    "                },\n",
    "            'slash': {\n",
    "                'range': [(14,15),(15,16),(16,17)],\n",
    "                'frames':  [(0,1),(1,2),(2,3),(3,4),(4,5),(5,6),(5,6),(5,6)]\n",
    "                }\n",
    "            }\n",
    "    slices = {}\n",
    "    for action,params in actions.items():\n",
    "        slices[action] = []\n",
    "        for row in params['range']:\n",
    "            sprite = []\n",
    "            for col in params['frames']:\n",
    "                sprite.append(transforms.functional.to_tensor(img[64*row[0]:64*row[1],64*col[0]:64*col[1],:]))\n",
    "            slices[action].append(torch.stack(sprite))\n",
    "        slices[action] = torch.stack(slices[action])\n",
    "    return slices #slices[action][position(0,1,2)][frame no.][image]"
   ]
  },
  {
   "cell_type": "code",
   "execution_count": 20,
   "metadata": {},
   "outputs": [],
   "source": [
    "slices = prepare_tensor('test.png')"
   ]
  },
  {
   "cell_type": "code",
   "execution_count": 23,
   "metadata": {},
   "outputs": [
    {
     "data": {
      "text/plain": [
       "<matplotlib.image.AxesImage at 0x7f245952d668>"
      ]
     },
     "execution_count": 23,
     "metadata": {},
     "output_type": "execute_result"
    },
    {
     "data": {
      "image/png": "[encoded data removed]",
      "text/plain": [
       "<Figure size 432x288 with 1 Axes>"
      ]
     },
     "metadata": {},
     "output_type": "display_data"
    }
   ],
   "source": [
    "image = transforms.functional.to_pil_image(slices['spellcast'][1][4])\n",
    "plt.imshow(image)"
   ]
  },
  {
   "cell_type": "code",
   "execution_count": null,
   "metadata": {},
   "outputs": [],
   "source": []
  }
 ],
 "metadata": {
  "kernelspec": {
   "display_name": "Python 3",
   "language": "python",
   "name": "python3"
  },
  "language_info": {
   "codemirror_mode": {
    "name": "ipython",
    "version": 3
   },
   "file_extension": ".py",
   "mimetype": "text/x-python",
   "name": "python",
   "nbconvert_exporter": "python",
   "pygments_lexer": "ipython3",
   "version": "3.6.6"
  }
 },
 "nbformat": 4,
 "nbformat_minor": 2
}
